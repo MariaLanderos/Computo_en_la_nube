{
  "nbformat": 4,
  "nbformat_minor": 0,
  "metadata": {
    "colab": {
      "provenance": [],
      "authorship_tag": "ABX9TyM7OEo9cg7hXkEoiezOyc4p",
      "include_colab_link": true
    },
    "kernelspec": {
      "name": "python3",
      "display_name": "Python 3"
    },
    "language_info": {
      "name": "python"
    }
  },
  "cells": [
    {
      "cell_type": "markdown",
      "metadata": {
        "id": "view-in-github",
        "colab_type": "text"
      },
      "source": [
        "<a href=\"https://colab.research.google.com/github/MariaLanderos/Computo_en_la_nube/blob/main/1_2IntroduccionPython.ipynb\" target=\"_parent\"><img src=\"https://colab.research.google.com/assets/colab-badge.svg\" alt=\"Open In Colab\"/></a>"
      ]
    },
    {
      "cell_type": "markdown",
      "source": [
        "##Factorial"
      ],
      "metadata": {
        "id": "deHjImO6X0LQ"
      }
    },
    {
      "cell_type": "code",
      "execution_count": null,
      "metadata": {
        "colab": {
          "base_uri": "https://localhost:8080/"
        },
        "id": "TYERZxLtXzRW",
        "outputId": "64219731-7285-4db6-d651-7b1f46f3c883"
      },
      "outputs": [
        {
          "output_type": "execute_result",
          "data": {
            "text/plain": [
              "120"
            ]
          },
          "metadata": {},
          "execution_count": 1
        }
      ],
      "source": [
        "from math import factorial\n",
        "factorial(5)"
      ]
    },
    {
      "cell_type": "markdown",
      "source": [
        "#Variables\n",
        "1. An integer number n (type: int, value: 3)\n",
        "\n",
        "2. A string address (type: str, value: Sherlock Holmes' address)\n",
        "\n",
        "3. A dictionary employee (type: dict, value: a dictionary object with three key/\n",
        "value pairs)"
      ],
      "metadata": {
        "id": "duahwTqTaKhL"
      }
    },
    {
      "cell_type": "code",
      "source": [
        "n= 3 #integer number\n",
        "address=  \" Col Roma 316 Calle Francisco de Luna, Frontera \"\n",
        "employee = {\n",
        "    'age': 21,\n",
        "    'role': 'Auxiliar',\n",
        "    'NSS': '36862SIO'\n",
        "}\n",
        "n"
      ],
      "metadata": {
        "colab": {
          "base_uri": "https://localhost:8080/"
        },
        "id": "jDIXHyz6X8fi",
        "outputId": "98542a79-d05b-4aa4-af00-279522acb363"
      },
      "execution_count": null,
      "outputs": [
        {
          "output_type": "execute_result",
          "data": {
            "text/plain": [
              "3"
            ]
          },
          "metadata": {},
          "execution_count": 2
        }
      ]
    },
    {
      "cell_type": "code",
      "source": [
        "address"
      ],
      "metadata": {
        "colab": {
          "base_uri": "https://localhost:8080/",
          "height": 36
        },
        "id": "xHP4m5Y4Z5F1",
        "outputId": "99230874-b000-4a32-910f-048727074f8e"
      },
      "execution_count": null,
      "outputs": [
        {
          "output_type": "execute_result",
          "data": {
            "text/plain": [
              "' Col Roma 316 Calle Francisco de Luna, Frontera '"
            ],
            "application/vnd.google.colaboratory.intrinsic+json": {
              "type": "string"
            }
          },
          "metadata": {},
          "execution_count": 3
        }
      ]
    },
    {
      "cell_type": "code",
      "source": [
        "employee"
      ],
      "metadata": {
        "colab": {
          "base_uri": "https://localhost:8080/"
        },
        "id": "IcXCH-t5Z8KY",
        "outputId": "3d446b6f-c7ce-4b06-8696-96656b7b5dd1"
      },
      "execution_count": null,
      "outputs": [
        {
          "output_type": "execute_result",
          "data": {
            "text/plain": [
              "{'age': 21, 'role': 'Auxiliar', 'NSS': '36862SIO'}"
            ]
          },
          "metadata": {},
          "execution_count": 4
        }
      ]
    },
    {
      "cell_type": "code",
      "source": [
        "otro_nombre   #aparecerá error porque no tenemos registrada la variable"
      ],
      "metadata": {
        "colab": {
          "base_uri": "https://localhost:8080/",
          "height": 175
        },
        "id": "D7gnfMjOZ-DE",
        "outputId": "7171479e-2664-4be1-849f-1d81c639f24a"
      },
      "execution_count": null,
      "outputs": [
        {
          "output_type": "error",
          "ename": "NameError",
          "evalue": "ignored",
          "traceback": [
            "\u001b[0;31m---------------------------------------------------------------------------\u001b[0m",
            "\u001b[0;31mNameError\u001b[0m                                 Traceback (most recent call last)",
            "\u001b[0;32m<ipython-input-6-5a3b110d6068>\u001b[0m in \u001b[0;36m<cell line: 1>\u001b[0;34m()\u001b[0m\n\u001b[0;32m----> 1\u001b[0;31m \u001b[0motro_nombre\u001b[0m   \u001b[0;31m#aparecerá error porque no tenemos registrada la variable\u001b[0m\u001b[0;34m\u001b[0m\u001b[0;34m\u001b[0m\u001b[0m\n\u001b[0m",
            "\u001b[0;31mNameError\u001b[0m: name 'otro_nombre' is not defined"
          ]
        }
      ]
    },
    {
      "cell_type": "code",
      "source": [
        "#scopes1.py\n",
        "# Local versus Global\n",
        "# we define a function, called local\n",
        "def local():\n",
        "  m = 7\n",
        "  print(m)\n",
        "# we define m within the global scope\n",
        "m = 5\n",
        "# we call, or `execute` the function local\n",
        "local()\n",
        "print(m)"
      ],
      "metadata": {
        "colab": {
          "base_uri": "https://localhost:8080/"
        },
        "id": "HQrZ6EweaBJq",
        "outputId": "9502ddf3-e4e2-4f3d-a87e-efa4d6d4d5e4"
      },
      "execution_count": null,
      "outputs": [
        {
          "output_type": "stream",
          "name": "stdout",
          "text": [
            "7\n",
            "5\n"
          ]
        }
      ]
    },
    {
      "cell_type": "markdown",
      "source": [
        "#Objetos y clases\n",
        "objects are Python's abstraction for data. In fact,\n",
        "everything in Python is an object: numbers, strings (data structures that hold text),\n",
        "containers, collections, even functions. You can think of them as if they were boxes\n",
        "with at least three features: an ID (which is unique), a type, and a value."
      ],
      "metadata": {
        "id": "_JU4VIsO2N1z"
      }
    },
    {
      "cell_type": "markdown",
      "source": [
        "Python prints m the first time, then when the function local is called,\n",
        "m is not found in its scope, so Python looks for it following the LEGB chain until m\n",
        "is found in the global scope. Let's see an example with an extra layer, the enclosing\n",
        "scope:"
      ],
      "metadata": {
        "id": "3kaCh4oL2Ie-"
      }
    },
    {
      "cell_type": "code",
      "source": [
        "\n",
        "# Local, Enclosing and Global\n",
        "def enclosing_func():\n",
        "    m = 13\n",
        "    def local():\n",
        "# m doesn't belong to the scope defined by the local\n",
        "# function so Python will keep looking into the next\n",
        "# enclosing scope. This time m is found in the enclosing\n",
        "# scope\n",
        "        print(m, 'printing from the local scope')\n",
        "# calling the function local\n",
        "    local()\n",
        "m = 5\n",
        "print(m, 'printing from the global scope')\n",
        "enclosing_func()"
      ],
      "metadata": {
        "id": "VI-VHjpVguXq",
        "colab": {
          "base_uri": "https://localhost:8080/"
        },
        "outputId": "5a8a6e26-a5ff-48b2-ba77-51792cc0e6d2"
      },
      "execution_count": null,
      "outputs": [
        {
          "output_type": "stream",
          "name": "stdout",
          "text": [
            "5 printing from the global scope\n",
            "13 printing from the local scope\n"
          ]
        }
      ]
    },
    {
      "cell_type": "markdown",
      "source": [
        "##Classes are used to create objects.\n",
        "We will write a class that defines a bike and create two bikes,\n",
        "one red and one blue."
      ],
      "metadata": {
        "id": "fTa1gcDFm95i"
      }
    },
    {
      "cell_type": "code",
      "source": [
        "#definimos la clase Bike\n",
        "class Bike:\n",
        "    def __init__(self, colour, frame_material):\n",
        "        self.colour = colour\n",
        "        self.frame_material = frame_material\n",
        "\n",
        "    def brake(self):\n",
        "        print(\"Braking!\")\n",
        "# let's create a couple of instances\n",
        "red_bike = Bike('Red', 'Carbon fiber')\n",
        "blue_bike = Bike('Blue', 'Steel')\n",
        "# let's inspect the objects we have, instances of the Bike class.\n",
        "print(red_bike.colour) # prints: Red\n",
        "print(red_bike.frame_material) # prints: Carbon fiber\n",
        "print(blue_bike.colour) # prints: Blue\n",
        "print(blue_bike.frame_material) # prints: Steel\n",
        "# let's brake!\n",
        "red_bike.brake() # prints: Braking!"
      ],
      "metadata": {
        "colab": {
          "base_uri": "https://localhost:8080/"
        },
        "id": "8DiJ-7v2dWav",
        "outputId": "621089ad-22e5-4861-e497-65c6f864bfa0"
      },
      "execution_count": null,
      "outputs": [
        {
          "output_type": "stream",
          "name": "stdout",
          "text": [
            "Red\n",
            "Carbon fiber\n",
            "Blue\n",
            "Steel\n",
            "Braking!\n"
          ]
        }
      ]
    },
    {
      "cell_type": "code",
      "source": [
        "import this"
      ],
      "metadata": {
        "colab": {
          "base_uri": "https://localhost:8080/"
        },
        "id": "lWZVWCLR16eG",
        "outputId": "d07cfc6d-bdce-4e2a-897d-1116ce29cde0"
      },
      "execution_count": null,
      "outputs": [
        {
          "output_type": "stream",
          "name": "stdout",
          "text": [
            "The Zen of Python, by Tim Peters\n",
            "\n",
            "Beautiful is better than ugly.\n",
            "Explicit is better than implicit.\n",
            "Simple is better than complex.\n",
            "Complex is better than complicated.\n",
            "Flat is better than nested.\n",
            "Sparse is better than dense.\n",
            "Readability counts.\n",
            "Special cases aren't special enough to break the rules.\n",
            "Although practicality beats purity.\n",
            "Errors should never pass silently.\n",
            "Unless explicitly silenced.\n",
            "In the face of ambiguity, refuse the temptation to guess.\n",
            "There should be one-- and preferably only one --obvious way to do it.\n",
            "Although that way may not be obvious at first unless you're Dutch.\n",
            "Now is better than never.\n",
            "Although never is often better than *right* now.\n",
            "If the implementation is hard to explain, it's a bad idea.\n",
            "If the implementation is easy to explain, it may be a good idea.\n",
            "Namespaces are one honking great idea -- let's do more of those!\n"
          ]
        }
      ]
    },
    {
      "cell_type": "markdown",
      "source": [
        "#Mutable o inmutable\n",
        "The first fundamental distinction that Python makes on data is about whether or\n",
        "not the value of an object can change. If the value can change, the object is called\n",
        "mutable, whereas if the value cannot change, the object is called immutable."
      ],
      "metadata": {
        "id": "vYbrNFysEW68"
      }
    },
    {
      "cell_type": "code",
      "source": [
        "age = 42\n",
        "age"
      ],
      "metadata": {
        "colab": {
          "base_uri": "https://localhost:8080/"
        },
        "id": "pHAwEqsm3Cin",
        "outputId": "e316dddc-1ac5-4396-d8dd-091d8f91e0ad"
      },
      "execution_count": null,
      "outputs": [
        {
          "output_type": "execute_result",
          "data": {
            "text/plain": [
              "42"
            ]
          },
          "metadata": {},
          "execution_count": 3
        }
      ]
    },
    {
      "cell_type": "code",
      "source": [
        "age =43\n",
        "age"
      ],
      "metadata": {
        "colab": {
          "base_uri": "https://localhost:8080/"
        },
        "id": "o-14So33EkTc",
        "outputId": "3fe916aa-3317-46b4-caf0-ea8f4e9855fc"
      },
      "execution_count": null,
      "outputs": [
        {
          "output_type": "execute_result",
          "data": {
            "text/plain": [
              "43"
            ]
          },
          "metadata": {},
          "execution_count": 4
        }
      ]
    },
    {
      "cell_type": "code",
      "source": [
        "age = 42\n",
        "id(age)"
      ],
      "metadata": {
        "colab": {
          "base_uri": "https://localhost:8080/"
        },
        "id": "S3e7eJktEmI0",
        "outputId": "a46177bc-c6ee-4c07-c613-41af161a3719"
      },
      "execution_count": null,
      "outputs": [
        {
          "output_type": "execute_result",
          "data": {
            "text/plain": [
              "133703296206352"
            ]
          },
          "metadata": {},
          "execution_count": 5
        }
      ]
    },
    {
      "cell_type": "code",
      "source": [
        "age  =43\n",
        "id(age)"
      ],
      "metadata": {
        "colab": {
          "base_uri": "https://localhost:8080/"
        },
        "id": "ip8q79LpEtA4",
        "outputId": "dc7b0a33-dc80-4d9f-d53b-a9325874e07a"
      },
      "execution_count": null,
      "outputs": [
        {
          "output_type": "execute_result",
          "data": {
            "text/plain": [
              "133703296206384"
            ]
          },
          "metadata": {},
          "execution_count": 6
        }
      ]
    },
    {
      "cell_type": "markdown",
      "source": [
        "##Ejemplo de objeto mutable"
      ],
      "metadata": {
        "id": "UDvWTSQBE3OQ"
      }
    },
    {
      "cell_type": "code",
      "source": [
        "#pág 40\n",
        "class Person:\n",
        "  def __init__(self, age):\n",
        "    self.age = age\n",
        "\n",
        "fab = Person(age=42)\n",
        "fab.age\n"
      ],
      "metadata": {
        "id": "JCTWflJaE0hG",
        "colab": {
          "base_uri": "https://localhost:8080/"
        },
        "outputId": "4cbd010a-3067-408f-c1f4-7c337a8c52bf"
      },
      "execution_count": null,
      "outputs": [
        {
          "output_type": "execute_result",
          "data": {
            "text/plain": [
              "42"
            ]
          },
          "metadata": {},
          "execution_count": 1
        }
      ]
    },
    {
      "cell_type": "code",
      "source": [
        "id(fab)"
      ],
      "metadata": {
        "colab": {
          "base_uri": "https://localhost:8080/"
        },
        "id": "UVWZL99JLxIm",
        "outputId": "f77549c1-4c33-4fdc-b898-d1b873214e53"
      },
      "execution_count": null,
      "outputs": [
        {
          "output_type": "execute_result",
          "data": {
            "text/plain": [
              "135405021985328"
            ]
          },
          "metadata": {},
          "execution_count": 2
        }
      ]
    },
    {
      "cell_type": "code",
      "source": [
        "id(fab.age)"
      ],
      "metadata": {
        "colab": {
          "base_uri": "https://localhost:8080/"
        },
        "id": "u4Jhskz1L1IO",
        "outputId": "9d8025ba-535c-44ed-ce9b-89eddcea9f00"
      },
      "execution_count": null,
      "outputs": [
        {
          "output_type": "execute_result",
          "data": {
            "text/plain": [
              "135405248513552"
            ]
          },
          "metadata": {},
          "execution_count": 3
        }
      ]
    },
    {
      "cell_type": "code",
      "source": [
        "fab.age = 25  #I wish\n",
        "id(fab) #will be the same"
      ],
      "metadata": {
        "colab": {
          "base_uri": "https://localhost:8080/"
        },
        "id": "s8slYNvOMAMN",
        "outputId": "d80bd673-cfd1-4153-9dd7-661a2de32ace"
      },
      "execution_count": null,
      "outputs": [
        {
          "output_type": "execute_result",
          "data": {
            "text/plain": [
              "135405021985328"
            ]
          },
          "metadata": {},
          "execution_count": 4
        }
      ]
    },
    {
      "cell_type": "code",
      "source": [
        "id(fab.age)  #will be different"
      ],
      "metadata": {
        "colab": {
          "base_uri": "https://localhost:8080/"
        },
        "id": "FGfY6ytXMK5z",
        "outputId": "ed0dbd47-9dde-4a42-ef61-88a4d2bb53d5"
      },
      "execution_count": null,
      "outputs": [
        {
          "output_type": "execute_result",
          "data": {
            "text/plain": [
              "135405248513008"
            ]
          },
          "metadata": {},
          "execution_count": 5
        }
      ]
    },
    {
      "cell_type": "markdown",
      "source": [
        "#Números y enteros"
      ],
      "metadata": {
        "id": "sIYnxUZZMeR0"
      }
    },
    {
      "cell_type": "code",
      "source": [
        "a = 14\n",
        "b = 3\n",
        "\n",
        "a + b #suma\n"
      ],
      "metadata": {
        "colab": {
          "base_uri": "https://localhost:8080/"
        },
        "id": "Xb72fz96MTIy",
        "outputId": "03cedcb7-eb66-405a-fe98-8cc19aeb7864"
      },
      "execution_count": null,
      "outputs": [
        {
          "output_type": "execute_result",
          "data": {
            "text/plain": [
              "17"
            ]
          },
          "metadata": {},
          "execution_count": 7
        }
      ]
    },
    {
      "cell_type": "code",
      "source": [
        "a-b #resta\n"
      ],
      "metadata": {
        "colab": {
          "base_uri": "https://localhost:8080/"
        },
        "id": "cJEQMwq8Q3kh",
        "outputId": "26b9a89f-bcd1-4767-cf71-ebee8415ef21"
      },
      "execution_count": null,
      "outputs": [
        {
          "output_type": "execute_result",
          "data": {
            "text/plain": [
              "11"
            ]
          },
          "metadata": {},
          "execution_count": 8
        }
      ]
    },
    {
      "cell_type": "code",
      "source": [
        "a * b #multiplicación"
      ],
      "metadata": {
        "colab": {
          "base_uri": "https://localhost:8080/"
        },
        "id": "jeLp722jQ7tC",
        "outputId": "ca81dafd-28b4-4185-d5da-6c2cd8e88f65"
      },
      "execution_count": null,
      "outputs": [
        {
          "output_type": "execute_result",
          "data": {
            "text/plain": [
              "42"
            ]
          },
          "metadata": {},
          "execution_count": 10
        }
      ]
    },
    {
      "cell_type": "code",
      "source": [
        "a / b  #division"
      ],
      "metadata": {
        "colab": {
          "base_uri": "https://localhost:8080/"
        },
        "id": "RUWZSqeTQ-bX",
        "outputId": "7668902f-0ba8-4353-ec0b-79b07d774d24"
      },
      "execution_count": null,
      "outputs": [
        {
          "output_type": "execute_result",
          "data": {
            "text/plain": [
              "4.666666666666667"
            ]
          },
          "metadata": {},
          "execution_count": 11
        }
      ]
    },
    {
      "cell_type": "code",
      "source": [
        "a // b #division de enteros"
      ],
      "metadata": {
        "colab": {
          "base_uri": "https://localhost:8080/"
        },
        "id": "1n-TUIGzRF4q",
        "outputId": "6d77d339-7f30-44eb-d815-19b5d58a418a"
      },
      "execution_count": null,
      "outputs": [
        {
          "output_type": "execute_result",
          "data": {
            "text/plain": [
              "4"
            ]
          },
          "metadata": {},
          "execution_count": 12
        }
      ]
    },
    {
      "cell_type": "code",
      "source": [
        "a % b  #modulo operation (reminder of division)"
      ],
      "metadata": {
        "colab": {
          "base_uri": "https://localhost:8080/"
        },
        "id": "ZTnImk8XRIn2",
        "outputId": "37190a25-442d-4f60-cb4e-f38732912a86"
      },
      "execution_count": null,
      "outputs": [
        {
          "output_type": "execute_result",
          "data": {
            "text/plain": [
              "2"
            ]
          },
          "metadata": {},
          "execution_count": 13
        }
      ]
    },
    {
      "cell_type": "code",
      "source": [
        "a ** b #power operation"
      ],
      "metadata": {
        "colab": {
          "base_uri": "https://localhost:8080/"
        },
        "id": "ssWax-NcRNHA",
        "outputId": "9c31d920-ae7b-4b74-e6ef-d45e29a67428"
      },
      "execution_count": null,
      "outputs": [
        {
          "output_type": "execute_result",
          "data": {
            "text/plain": [
              "2744"
            ]
          },
          "metadata": {},
          "execution_count": 14
        }
      ]
    },
    {
      "cell_type": "code",
      "source": [
        "#Let's see how division behaves differently when we introduce negative numbers:\n",
        "7/4   #true division"
      ],
      "metadata": {
        "colab": {
          "base_uri": "https://localhost:8080/"
        },
        "id": "Is89S9LRRPLO",
        "outputId": "b3f2b43a-9a95-478b-c49a-1f0542d03ffb"
      },
      "execution_count": null,
      "outputs": [
        {
          "output_type": "execute_result",
          "data": {
            "text/plain": [
              "1.75"
            ]
          },
          "metadata": {},
          "execution_count": 15
        }
      ]
    },
    {
      "cell_type": "code",
      "source": [
        "7//4  #integer division, truncation returns 1"
      ],
      "metadata": {
        "colab": {
          "base_uri": "https://localhost:8080/"
        },
        "id": "EXmeO_tFR1iA",
        "outputId": "d5c52935-d3d0-43a5-b369-5e7c4f1622f1"
      },
      "execution_count": null,
      "outputs": [
        {
          "output_type": "execute_result",
          "data": {
            "text/plain": [
              "1"
            ]
          },
          "metadata": {},
          "execution_count": 16
        }
      ]
    },
    {
      "cell_type": "code",
      "source": [
        "-7/4   #true division again, result is opposite of previous"
      ],
      "metadata": {
        "colab": {
          "base_uri": "https://localhost:8080/"
        },
        "id": "pv3VuT7uR3Gm",
        "outputId": "1ef726bd-86f9-418b-b5b6-89313907e793"
      },
      "execution_count": null,
      "outputs": [
        {
          "output_type": "execute_result",
          "data": {
            "text/plain": [
              "-1.75"
            ]
          },
          "metadata": {},
          "execution_count": 17
        }
      ]
    },
    {
      "cell_type": "code",
      "source": [
        "-7//4     # integer division, result not the opposite of previous"
      ],
      "metadata": {
        "colab": {
          "base_uri": "https://localhost:8080/"
        },
        "id": "pGEEk8EhR6bv",
        "outputId": "92ea7018-8493-4e45-9505-849cecb27487"
      },
      "execution_count": null,
      "outputs": [
        {
          "output_type": "execute_result",
          "data": {
            "text/plain": [
              "-2"
            ]
          },
          "metadata": {},
          "execution_count": 18
        }
      ]
    },
    {
      "cell_type": "code",
      "source": [
        "#Python is always rounded toward minus infinity.\n",
        "int(1.75)"
      ],
      "metadata": {
        "colab": {
          "base_uri": "https://localhost:8080/"
        },
        "id": "BuLbMB-XR8b7",
        "outputId": "568ba85f-636e-4c9a-a104-5f75ac72dd33"
      },
      "execution_count": null,
      "outputs": [
        {
          "output_type": "execute_result",
          "data": {
            "text/plain": [
              "1"
            ]
          },
          "metadata": {},
          "execution_count": 20
        }
      ]
    },
    {
      "cell_type": "code",
      "source": [
        "int(-1.75)"
      ],
      "metadata": {
        "colab": {
          "base_uri": "https://localhost:8080/"
        },
        "id": "KO4v8FteSqPy",
        "outputId": "f346f6cb-c5f1-48a0-d3f4-92c46ef383d2"
      },
      "execution_count": null,
      "outputs": [
        {
          "output_type": "execute_result",
          "data": {
            "text/plain": [
              "-1"
            ]
          },
          "metadata": {},
          "execution_count": 21
        }
      ]
    },
    {
      "cell_type": "code",
      "source": [
        "#power operator\n",
        "pow(10,3)"
      ],
      "metadata": {
        "id": "5icwlYXKSs8i",
        "colab": {
          "base_uri": "https://localhost:8080/"
        },
        "outputId": "e8c9602e-22a6-4a54-fde7-59302bd30955"
      },
      "execution_count": 1,
      "outputs": [
        {
          "output_type": "execute_result",
          "data": {
            "text/plain": [
              "1000"
            ]
          },
          "metadata": {},
          "execution_count": 1
        }
      ]
    },
    {
      "cell_type": "code",
      "source": [
        "10 ** 3"
      ],
      "metadata": {
        "colab": {
          "base_uri": "https://localhost:8080/"
        },
        "id": "TyTclTkv4I0S",
        "outputId": "e5620074-fae6-44a4-ade7-66e388c951cd"
      },
      "execution_count": 2,
      "outputs": [
        {
          "output_type": "execute_result",
          "data": {
            "text/plain": [
              "1000"
            ]
          },
          "metadata": {},
          "execution_count": 2
        }
      ]
    },
    {
      "cell_type": "code",
      "source": [
        "pow(10, -3)"
      ],
      "metadata": {
        "colab": {
          "base_uri": "https://localhost:8080/"
        },
        "id": "FUYturd6C13P",
        "outputId": "5efe8e69-f3ff-4c8c-a380-13dbd68d7d87"
      },
      "execution_count": 3,
      "outputs": [
        {
          "output_type": "execute_result",
          "data": {
            "text/plain": [
              "0.001"
            ]
          },
          "metadata": {},
          "execution_count": 3
        }
      ]
    },
    {
      "cell_type": "code",
      "source": [
        "10 ** -3"
      ],
      "metadata": {
        "colab": {
          "base_uri": "https://localhost:8080/"
        },
        "id": "AB0YaCe9C9Mq",
        "outputId": "aacfb223-d81d-41f3-ca9c-bf04d92ac16c"
      },
      "execution_count": 4,
      "outputs": [
        {
          "output_type": "execute_result",
          "data": {
            "text/plain": [
              "0.001"
            ]
          },
          "metadata": {},
          "execution_count": 4
        }
      ]
    },
    {
      "cell_type": "markdown",
      "source": [
        "#Tuplas\n",
        "A tuple is a sequence of arbitrary Python objects. In a tuple declaration, items are separated\n",
        "by commas."
      ],
      "metadata": {
        "id": "M4ekz54iS1C0"
      }
    },
    {
      "cell_type": "code",
      "source": [
        "t = () #empty tuple"
      ],
      "metadata": {
        "id": "kHBADrZzC_lt"
      },
      "execution_count": 6,
      "outputs": []
    },
    {
      "cell_type": "code",
      "source": [
        "type(t)"
      ],
      "metadata": {
        "colab": {
          "base_uri": "https://localhost:8080/"
        },
        "id": "peqQ0O0xTmqG",
        "outputId": "ce3ce672-2cd1-490f-965a-40318162393d"
      },
      "execution_count": 7,
      "outputs": [
        {
          "output_type": "execute_result",
          "data": {
            "text/plain": [
              "tuple"
            ]
          },
          "metadata": {},
          "execution_count": 7
        }
      ]
    },
    {
      "cell_type": "code",
      "source": [
        "one_element_tuple = (42, )  #you need the comma\n",
        "three_elements_tuple = (1, 3, 5)"
      ],
      "metadata": {
        "id": "qxIp7VerTr2K"
      },
      "execution_count": 8,
      "outputs": []
    },
    {
      "cell_type": "code",
      "source": [
        "a,b,c = 1, 2, 3 #tuple for multiple assignment\n",
        "a, b, c"
      ],
      "metadata": {
        "colab": {
          "base_uri": "https://localhost:8080/"
        },
        "id": "BcdlFhtrWs4U",
        "outputId": "0a33f983-ee16-4774-8815-d2398b6e918a"
      },
      "execution_count": 9,
      "outputs": [
        {
          "output_type": "execute_result",
          "data": {
            "text/plain": [
              "(1, 2, 3)"
            ]
          },
          "metadata": {},
          "execution_count": 9
        }
      ]
    },
    {
      "cell_type": "code",
      "source": [
        "3 in three_elements_tuple  #membership test"
      ],
      "metadata": {
        "colab": {
          "base_uri": "https://localhost:8080/"
        },
        "id": "cs1LxCrOXJ58",
        "outputId": "71263af5-91ca-419f-ca51-70b2642be35e"
      },
      "execution_count": 10,
      "outputs": [
        {
          "output_type": "execute_result",
          "data": {
            "text/plain": [
              "True"
            ]
          },
          "metadata": {},
          "execution_count": 10
        }
      ]
    },
    {
      "cell_type": "code",
      "source": [
        "a, b = 1,2   #Manera tradicional\n",
        "c = a #we need three llines and a temporary var c\n",
        "a = b\n",
        "b = c\n",
        "a, b   #a and b have been swapped"
      ],
      "metadata": {
        "colab": {
          "base_uri": "https://localhost:8080/"
        },
        "id": "_iRVHrR0XQZt",
        "outputId": "21884df9-d975-4bda-e0c4-1acc55de3384"
      },
      "execution_count": 11,
      "outputs": [
        {
          "output_type": "execute_result",
          "data": {
            "text/plain": [
              "(2, 1)"
            ]
          },
          "metadata": {},
          "execution_count": 11
        }
      ]
    },
    {
      "cell_type": "code",
      "source": [
        "#manera de python\n",
        "a, b = 0, 1\n",
        "a, b = b, a\n",
        "a, b"
      ],
      "metadata": {
        "colab": {
          "base_uri": "https://localhost:8080/"
        },
        "id": "6LtZskY3X01a",
        "outputId": "08ef557e-b1a9-4053-e5e8-05f6d292f566"
      },
      "execution_count": 12,
      "outputs": [
        {
          "output_type": "execute_result",
          "data": {
            "text/plain": [
              "(1, 0)"
            ]
          },
          "metadata": {},
          "execution_count": 12
        }
      ]
    },
    {
      "cell_type": "markdown",
      "source": [
        "#Listas\n",
        "No tienen la restriccion de inmutabilidad"
      ],
      "metadata": {
        "id": "BX5AgpGNYGNZ"
      }
    },
    {
      "cell_type": "code",
      "source": [
        "[] #empty list"
      ],
      "metadata": {
        "colab": {
          "base_uri": "https://localhost:8080/"
        },
        "id": "3bm8_dvoYDLH",
        "outputId": "8444ad91-36ba-4684-b411-c525b8fe3784"
      },
      "execution_count": 1,
      "outputs": [
        {
          "output_type": "execute_result",
          "data": {
            "text/plain": [
              "[]"
            ]
          },
          "metadata": {},
          "execution_count": 1
        }
      ]
    },
    {
      "cell_type": "code",
      "source": [
        "list()"
      ],
      "metadata": {
        "colab": {
          "base_uri": "https://localhost:8080/"
        },
        "id": "AIvkUaf_tFFL",
        "outputId": "f804cc54-f0f5-4435-d68b-3311f08aadab"
      },
      "execution_count": 2,
      "outputs": [
        {
          "output_type": "execute_result",
          "data": {
            "text/plain": [
              "[]"
            ]
          },
          "metadata": {},
          "execution_count": 2
        }
      ]
    },
    {
      "cell_type": "code",
      "source": [
        "[1,2,3]"
      ],
      "metadata": {
        "colab": {
          "base_uri": "https://localhost:8080/"
        },
        "id": "TVHIsREFtG5V",
        "outputId": "05a58c37-5d77-448e-be76-f6826df5c8c6"
      },
      "execution_count": 3,
      "outputs": [
        {
          "output_type": "execute_result",
          "data": {
            "text/plain": [
              "[1, 2, 3]"
            ]
          },
          "metadata": {},
          "execution_count": 3
        }
      ]
    },
    {
      "cell_type": "code",
      "source": [
        "[x + 5 for x in [2,3,4]]"
      ],
      "metadata": {
        "colab": {
          "base_uri": "https://localhost:8080/"
        },
        "id": "DjA2x7_ztJiv",
        "outputId": "05703843-c5cc-4267-c09c-32e5ad814a74"
      },
      "execution_count": 4,
      "outputs": [
        {
          "output_type": "execute_result",
          "data": {
            "text/plain": [
              "[7, 8, 9]"
            ]
          },
          "metadata": {},
          "execution_count": 4
        }
      ]
    },
    {
      "cell_type": "code",
      "source": [
        "list((1,3,5,7,9)) #lista de una tupla"
      ],
      "metadata": {
        "colab": {
          "base_uri": "https://localhost:8080/"
        },
        "id": "Y3HbeqoltSep",
        "outputId": "1cc3d3cb-7f6a-40b9-87c5-d1cac3ff3791"
      },
      "execution_count": 5,
      "outputs": [
        {
          "output_type": "execute_result",
          "data": {
            "text/plain": [
              "[1, 3, 5, 7, 9]"
            ]
          },
          "metadata": {},
          "execution_count": 5
        }
      ]
    },
    {
      "cell_type": "code",
      "source": [
        "list('hello') #lista de una cadena"
      ],
      "metadata": {
        "colab": {
          "base_uri": "https://localhost:8080/"
        },
        "id": "Q5eA7Ggww3Qe",
        "outputId": "8b84300e-65b5-4c79-bba8-53e8605639be"
      },
      "execution_count": 6,
      "outputs": [
        {
          "output_type": "execute_result",
          "data": {
            "text/plain": [
              "['h', 'e', 'l', 'l', 'o']"
            ]
          },
          "metadata": {},
          "execution_count": 6
        }
      ]
    },
    {
      "cell_type": "code",
      "source": [
        "#usando las listas\n",
        "a = [1,2,1,3]\n",
        "a.append(13) #agregar un elemento al final de la lista\n",
        "a"
      ],
      "metadata": {
        "colab": {
          "base_uri": "https://localhost:8080/"
        },
        "id": "7ZFXFOvtw7dD",
        "outputId": "8201b914-3109-4128-e6a9-7fbad1b6bfa6"
      },
      "execution_count": 49,
      "outputs": [
        {
          "output_type": "execute_result",
          "data": {
            "text/plain": [
              "[1, 2, 1, 3, 13]"
            ]
          },
          "metadata": {},
          "execution_count": 49
        }
      ]
    },
    {
      "cell_type": "code",
      "source": [
        "a.count(1) #cuantos 1s hay en la lista"
      ],
      "metadata": {
        "colab": {
          "base_uri": "https://localhost:8080/"
        },
        "id": "eWW0dk3pyW_v",
        "outputId": "f79f529f-ed0b-42d6-cc66-d8ec17177c8e"
      },
      "execution_count": 50,
      "outputs": [
        {
          "output_type": "execute_result",
          "data": {
            "text/plain": [
              "2"
            ]
          },
          "metadata": {},
          "execution_count": 50
        }
      ]
    },
    {
      "cell_type": "code",
      "source": [
        " a.extend([5,7])#extend the list by another"
      ],
      "metadata": {
        "id": "iAG8vASwyfsq"
      },
      "execution_count": 51,
      "outputs": []
    },
    {
      "cell_type": "code",
      "source": [
        "a"
      ],
      "metadata": {
        "colab": {
          "base_uri": "https://localhost:8080/"
        },
        "id": "pKlyROWmywOc",
        "outputId": "abbe75c1-9e83-416c-c267-07e835b910dc"
      },
      "execution_count": 52,
      "outputs": [
        {
          "output_type": "execute_result",
          "data": {
            "text/plain": [
              "[1, 2, 1, 3, 13, 5, 7]"
            ]
          },
          "metadata": {},
          "execution_count": 52
        }
      ]
    },
    {
      "cell_type": "code",
      "source": [
        "a.index(13) #position of '13' in te list (0-based indexing)"
      ],
      "metadata": {
        "colab": {
          "base_uri": "https://localhost:8080/"
        },
        "id": "Kt3PPFaYy2Ls",
        "outputId": "7c540c7d-2c88-4e0d-8cf7-8aa638e66b91"
      },
      "execution_count": 53,
      "outputs": [
        {
          "output_type": "execute_result",
          "data": {
            "text/plain": [
              "4"
            ]
          },
          "metadata": {},
          "execution_count": 53
        }
      ]
    },
    {
      "cell_type": "code",
      "source": [
        "a.insert(0,17)  #inserta 17 en la posición 0\n",
        "a"
      ],
      "metadata": {
        "colab": {
          "base_uri": "https://localhost:8080/"
        },
        "id": "3jcJiu_f5VF9",
        "outputId": "6052ea2d-8885-4a7c-e431-1c6d45228f44"
      },
      "execution_count": 54,
      "outputs": [
        {
          "output_type": "execute_result",
          "data": {
            "text/plain": [
              "[17, 1, 2, 1, 3, 13, 5, 7]"
            ]
          },
          "metadata": {},
          "execution_count": 54
        }
      ]
    },
    {
      "cell_type": "code",
      "source": [
        "a.pop()  #pop  (remove and return) last element"
      ],
      "metadata": {
        "colab": {
          "base_uri": "https://localhost:8080/"
        },
        "id": "p_TvpmQ15ef1",
        "outputId": "254a0d0a-8e4f-43ca-e7e7-c1916cf19264"
      },
      "execution_count": 55,
      "outputs": [
        {
          "output_type": "execute_result",
          "data": {
            "text/plain": [
              "7"
            ]
          },
          "metadata": {},
          "execution_count": 55
        }
      ]
    },
    {
      "cell_type": "code",
      "source": [
        "a.pop(3) #pop element at position 3"
      ],
      "metadata": {
        "colab": {
          "base_uri": "https://localhost:8080/"
        },
        "id": "riMtZnBj6YvY",
        "outputId": "0c2d3811-87db-420b-e295-06eb7aab0583"
      },
      "execution_count": 56,
      "outputs": [
        {
          "output_type": "execute_result",
          "data": {
            "text/plain": [
              "1"
            ]
          },
          "metadata": {},
          "execution_count": 56
        }
      ]
    },
    {
      "cell_type": "code",
      "source": [
        "a"
      ],
      "metadata": {
        "colab": {
          "base_uri": "https://localhost:8080/"
        },
        "id": "agx2ACyb6jJm",
        "outputId": "2c8d0ba5-2ded-4967-bf9a-f169f2ad37ca"
      },
      "execution_count": 57,
      "outputs": [
        {
          "output_type": "execute_result",
          "data": {
            "text/plain": [
              "[17, 1, 2, 3, 13, 5]"
            ]
          },
          "metadata": {},
          "execution_count": 57
        }
      ]
    },
    {
      "cell_type": "code",
      "source": [
        "a.remove(17)  #remove '17' from the list\n",
        "a"
      ],
      "metadata": {
        "colab": {
          "base_uri": "https://localhost:8080/"
        },
        "id": "yidr3EMR6yG8",
        "outputId": "e48a7da9-a267-4857-e7c6-1657feb4e92f"
      },
      "execution_count": 58,
      "outputs": [
        {
          "output_type": "execute_result",
          "data": {
            "text/plain": [
              "[1, 2, 3, 13, 5]"
            ]
          },
          "metadata": {},
          "execution_count": 58
        }
      ]
    },
    {
      "cell_type": "code",
      "source": [
        "a.reverse()  #reverse the orderof the elements in the list\n",
        "a"
      ],
      "metadata": {
        "colab": {
          "base_uri": "https://localhost:8080/"
        },
        "id": "sO5CkZrJ6krc",
        "outputId": "081edf32-eb7a-4d0b-9a18-7d8b1dc57f88"
      },
      "execution_count": 59,
      "outputs": [
        {
          "output_type": "execute_result",
          "data": {
            "text/plain": [
              "[5, 13, 3, 2, 1]"
            ]
          },
          "metadata": {},
          "execution_count": 59
        }
      ]
    },
    {
      "cell_type": "code",
      "source": [
        "a.sort()  #sort the list (orden nemor a mayor)\n",
        "a"
      ],
      "metadata": {
        "colab": {
          "base_uri": "https://localhost:8080/"
        },
        "id": "IyP6Uxh36tlp",
        "outputId": "cc78d15c-6663-44c0-b456-5e2fe88121f8"
      },
      "execution_count": 60,
      "outputs": [
        {
          "output_type": "execute_result",
          "data": {
            "text/plain": [
              "[1, 2, 3, 5, 13]"
            ]
          },
          "metadata": {},
          "execution_count": 60
        }
      ]
    },
    {
      "cell_type": "code",
      "source": [
        "a.clear() #remove all elements of the list"
      ],
      "metadata": {
        "id": "Y3deVEqr7XIR"
      },
      "execution_count": null,
      "outputs": []
    },
    {
      "cell_type": "markdown",
      "source": [
        "#Dates and times\n",
        "There are a huge number of ways to format date and time information.\n"
      ],
      "metadata": {
        "id": "YUVqknDa7ycj"
      }
    },
    {
      "cell_type": "code",
      "source": [
        "from datetime import date, datetime, timedelta, timezone\n",
        "import time\n",
        "import calendar as cal\n",
        "from zoneinfo import ZoneInfo"
      ],
      "metadata": {
        "id": "YPQ49Ktx74rO"
      },
      "execution_count": 61,
      "outputs": []
    },
    {
      "cell_type": "code",
      "source": [
        "today = date.today()\n",
        "today"
      ],
      "metadata": {
        "colab": {
          "base_uri": "https://localhost:8080/"
        },
        "id": "du6ze7RDIKyX",
        "outputId": "7cd49378-dd6f-4473-bb0d-0d052b6162d7"
      },
      "execution_count": 62,
      "outputs": [
        {
          "output_type": "execute_result",
          "data": {
            "text/plain": [
              "datetime.date(2023, 9, 15)"
            ]
          },
          "metadata": {},
          "execution_count": 62
        }
      ]
    },
    {
      "cell_type": "code",
      "source": [
        "today.ctime()"
      ],
      "metadata": {
        "colab": {
          "base_uri": "https://localhost:8080/",
          "height": 36
        },
        "id": "nY9RSY8KIPeH",
        "outputId": "5727bdb7-a0a5-4602-c508-09efba786b1b"
      },
      "execution_count": 63,
      "outputs": [
        {
          "output_type": "execute_result",
          "data": {
            "text/plain": [
              "'Fri Sep 15 00:00:00 2023'"
            ],
            "application/vnd.google.colaboratory.intrinsic+json": {
              "type": "string"
            }
          },
          "metadata": {},
          "execution_count": 63
        }
      ]
    },
    {
      "cell_type": "code",
      "source": [
        "today.isoformat()"
      ],
      "metadata": {
        "colab": {
          "base_uri": "https://localhost:8080/",
          "height": 36
        },
        "id": "eP-9xPrlISUm",
        "outputId": "c4589704-4fff-42ce-a3d0-df6f2ce9d767"
      },
      "execution_count": 64,
      "outputs": [
        {
          "output_type": "execute_result",
          "data": {
            "text/plain": [
              "'2023-09-15'"
            ],
            "application/vnd.google.colaboratory.intrinsic+json": {
              "type": "string"
            }
          },
          "metadata": {},
          "execution_count": 64
        }
      ]
    },
    {
      "cell_type": "code",
      "source": [
        "today.weekday()"
      ],
      "metadata": {
        "colab": {
          "base_uri": "https://localhost:8080/"
        },
        "id": "QEiKfrBiIU7g",
        "outputId": "89ff7d88-655a-4af9-bc14-9e0b0f49da5d"
      },
      "execution_count": 65,
      "outputs": [
        {
          "output_type": "execute_result",
          "data": {
            "text/plain": [
              "4"
            ]
          },
          "metadata": {},
          "execution_count": 65
        }
      ]
    },
    {
      "cell_type": "code",
      "source": [
        "cal.day_name[today.weekday()]"
      ],
      "metadata": {
        "colab": {
          "base_uri": "https://localhost:8080/",
          "height": 36
        },
        "id": "dYqofCZ6JUJF",
        "outputId": "a2af0978-fc22-4c50-f024-85012a931c29"
      },
      "execution_count": 66,
      "outputs": [
        {
          "output_type": "execute_result",
          "data": {
            "text/plain": [
              "'Friday'"
            ],
            "application/vnd.google.colaboratory.intrinsic+json": {
              "type": "string"
            }
          },
          "metadata": {},
          "execution_count": 66
        }
      ]
    },
    {
      "cell_type": "code",
      "source": [
        "today.day, today.month, today.year"
      ],
      "metadata": {
        "colab": {
          "base_uri": "https://localhost:8080/"
        },
        "id": "tlrXGKn5JZ50",
        "outputId": "cb737d0e-0dc1-41b0-a35d-34699d3ff8a7"
      },
      "execution_count": 67,
      "outputs": [
        {
          "output_type": "execute_result",
          "data": {
            "text/plain": [
              "(15, 9, 2023)"
            ]
          },
          "metadata": {},
          "execution_count": 67
        }
      ]
    },
    {
      "cell_type": "code",
      "source": [
        "today.timetuple()"
      ],
      "metadata": {
        "colab": {
          "base_uri": "https://localhost:8080/"
        },
        "id": "PYqLO6JkJews",
        "outputId": "1d9b9459-ff9d-4abc-cb67-f3444ad3a3ea"
      },
      "execution_count": 68,
      "outputs": [
        {
          "output_type": "execute_result",
          "data": {
            "text/plain": [
              "time.struct_time(tm_year=2023, tm_mon=9, tm_mday=15, tm_hour=0, tm_min=0, tm_sec=0, tm_wday=4, tm_yday=258, tm_isdst=-1)"
            ]
          },
          "metadata": {},
          "execution_count": 68
        }
      ]
    },
    {
      "cell_type": "code",
      "source": [
        "time.ctime()"
      ],
      "metadata": {
        "colab": {
          "base_uri": "https://localhost:8080/",
          "height": 36
        },
        "id": "r4j7_qyOJiFi",
        "outputId": "a303f843-4696-46e1-fc6a-10a610f2127b"
      },
      "execution_count": 69,
      "outputs": [
        {
          "output_type": "execute_result",
          "data": {
            "text/plain": [
              "'Fri Sep 15 04:43:15 2023'"
            ],
            "application/vnd.google.colaboratory.intrinsic+json": {
              "type": "string"
            }
          },
          "metadata": {},
          "execution_count": 69
        }
      ]
    },
    {
      "cell_type": "code",
      "source": [
        "time.daylight"
      ],
      "metadata": {
        "colab": {
          "base_uri": "https://localhost:8080/"
        },
        "id": "oa2mtJMXJnek",
        "outputId": "95b30aa1-bbe0-4b2f-fb7f-221f1016e3ad"
      },
      "execution_count": 70,
      "outputs": [
        {
          "output_type": "execute_result",
          "data": {
            "text/plain": [
              "0"
            ]
          },
          "metadata": {},
          "execution_count": 70
        }
      ]
    },
    {
      "cell_type": "code",
      "source": [
        "time.localtime()"
      ],
      "metadata": {
        "colab": {
          "base_uri": "https://localhost:8080/"
        },
        "id": "gLvOcmJ8JuK8",
        "outputId": "84ab11a9-2473-4ea1-c449-625c3d3bffb7"
      },
      "execution_count": 71,
      "outputs": [
        {
          "output_type": "execute_result",
          "data": {
            "text/plain": [
              "time.struct_time(tm_year=2023, tm_mon=9, tm_mday=15, tm_hour=4, tm_min=44, tm_sec=8, tm_wday=4, tm_yday=258, tm_isdst=0)"
            ]
          },
          "metadata": {},
          "execution_count": 71
        }
      ]
    },
    {
      "cell_type": "code",
      "source": [],
      "metadata": {
        "id": "KSQrkcIBJ0Rs"
      },
      "execution_count": null,
      "outputs": []
    }
  ]
}