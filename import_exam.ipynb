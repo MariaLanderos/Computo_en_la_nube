{
  "nbformat": 4,
  "nbformat_minor": 0,
  "metadata": {
    "colab": {
      "provenance": [],
      "authorship_tag": "ABX9TyPR2URmlWVecM0TM1V8gpP+",
      "include_colab_link": true
    },
    "kernelspec": {
      "name": "python3",
      "display_name": "Python 3"
    },
    "language_info": {
      "name": "python"
    }
  },
  "cells": [
    {
      "cell_type": "markdown",
      "metadata": {
        "id": "view-in-github",
        "colab_type": "text"
      },
      "source": [
        "<a href=\"https://colab.research.google.com/github/MariaLanderos/Computo_en_la_nube/blob/main/import_exam.ipynb\" target=\"_parent\"><img src=\"https://colab.research.google.com/assets/colab-badge.svg\" alt=\"Open In Colab\"/></a>"
      ]
    },
    {
      "cell_type": "markdown",
      "source": [],
      "metadata": {
        "id": "x9Gkz7EgYyI7"
      }
    },
    {
      "cell_type": "code",
      "execution_count": 1,
      "metadata": {
        "id": "ELnmsmFfYxVb",
        "colab": {
          "base_uri": "https://localhost:8080/"
        },
        "outputId": "3be2a0a8-7f37-4e9c-db84-3e7861f77663"
      },
      "outputs": [
        {
          "output_type": "stream",
          "name": "stdout",
          "text": [
            "Cloning into 'Computo_en_la_nube'...\n",
            "remote: Enumerating objects: 21, done.\u001b[K\n",
            "remote: Counting objects: 100% (21/21), done.\u001b[K\n",
            "remote: Compressing objects: 100% (20/20), done.\u001b[K\n",
            "remote: Total 21 (delta 10), reused 0 (delta 0), pack-reused 0\u001b[K\n",
            "Receiving objects: 100% (21/21), 18.49 KiB | 4.62 MiB/s, done.\n",
            "Resolving deltas: 100% (10/10), done.\n"
          ]
        }
      ],
      "source": [
        "! git clone https://github.com/MariaLanderos/Computo_en_la_nube.git"
      ]
    },
    {
      "cell_type": "code",
      "source": [
        "from Computo_en_la_nube.ExamenU1 import (num_primo,\n",
        "                      next_prime,\n",
        "                      median_of_three,\n",
        "                      generate_random_password,\n",
        "                      calcular_hipotenusa          )"
      ],
      "metadata": {
        "id": "uNBqHg_HVweE"
      },
      "execution_count": 2,
      "outputs": []
    },
    {
      "cell_type": "code",
      "source": [
        "if __name__ == \"__main__\":\n",
        "\n",
        "\n",
        "#Ejercicio 1\n",
        "    user_input = int(input(\"Ingresa un número entero: \"))\n",
        "    if num_primo(user_input):\n",
        "        print(f\"{user_input} es un número primo.\")\n",
        "    else:\n",
        "        print(f\"{user_input} no es un número primo.\")"
      ],
      "metadata": {
        "colab": {
          "base_uri": "https://localhost:8080/"
        },
        "id": "aEJtpR-FZ5vb",
        "outputId": "25ffe345-7ebc-4854-a42f-913b9ef60ff7"
      },
      "execution_count": 3,
      "outputs": [
        {
          "output_type": "stream",
          "name": "stdout",
          "text": [
            "Ingresa un número entero: 4\n",
            "4 no es un número primo.\n"
          ]
        }
      ]
    },
    {
      "cell_type": "code",
      "source": [
        "if __name__ == \"__main__\":\n",
        "\n",
        "#Ejercicio2\n",
        "\n",
        "    user_input2 = int(input(\"Ingresa un número entero: \"))\n",
        "    prime = next_prime(user_input2)\n",
        "    print(f\"El primer número primo mayor que {user_input2} es {prime}.\")"
      ],
      "metadata": {
        "colab": {
          "base_uri": "https://localhost:8080/"
        },
        "id": "1URGkSaYaOpu",
        "outputId": "074680c0-974e-4bba-b3fc-16c6e5497a0f"
      },
      "execution_count": 4,
      "outputs": [
        {
          "output_type": "stream",
          "name": "stdout",
          "text": [
            "Ingresa un número entero: 2\n",
            "El primer número primo mayor que 2 es 3.\n"
          ]
        }
      ]
    },
    {
      "cell_type": "code",
      "source": [
        "if __name__ == \"__main__\":\n",
        "#Ejercicio 3\n",
        "    num1 = float(input(\"Ingresa el primer número: \"))\n",
        "    num2 = float(input(\"Ingresa el segundo número: \"))\n",
        "    num3 = float(input(\"Ingresa el tercer número: \"))\n",
        "    median = median_of_three(num1, num2, num3)\n",
        "    print(f\"La mediana de los números ingresados es {median}.\")"
      ],
      "metadata": {
        "colab": {
          "base_uri": "https://localhost:8080/"
        },
        "id": "iPU2zF8QaZa5",
        "outputId": "a893825f-adca-4d59-81e5-16f790ee1305"
      },
      "execution_count": 5,
      "outputs": [
        {
          "output_type": "stream",
          "name": "stdout",
          "text": [
            "Ingresa el primer número: 5\n",
            "Ingresa el segundo número: 2\n",
            "Ingresa el tercer número: 8\n",
            "La mediana de los números ingresados es 5.0.\n"
          ]
        }
      ]
    },
    {
      "cell_type": "code",
      "source": [
        "#Ejercicio 4\n",
        "if __name__ == \"__main__\":\n",
        "\n",
        "  random_password = generate_random_password()\n",
        "  print(f\"Contraseña generada aleatoriamente: {random_password}\")"
      ],
      "metadata": {
        "colab": {
          "base_uri": "https://localhost:8080/"
        },
        "id": "Q56D0Nn9akUf",
        "outputId": "523a4983-d96c-4a1f-e238-21caa00e3f3e"
      },
      "execution_count": 8,
      "outputs": [
        {
          "output_type": "stream",
          "name": "stdout",
          "text": [
            "Contraseña generada aleatoriamente: Q/\\+#O%\n"
          ]
        }
      ]
    },
    {
      "cell_type": "code",
      "source": [
        "#Ejercicio 5\n",
        "if __name__ == \"__main__\":\n",
        "    lado1 = float(input(\"Ingresa la longitud del primer lado: \"))\n",
        "    lado2 = float(input(\"Ingresa la longitud del segundo lado: \"))\n",
        "    hipotenusa = calcular_hipotenusa(lado1, lado2)\n",
        "    print(f\"La longitud de la hipotenusa es {hipotenusa}.\")"
      ],
      "metadata": {
        "colab": {
          "base_uri": "https://localhost:8080/"
        },
        "id": "-b9h-GZHbVbg",
        "outputId": "5ce9d7ea-d0f5-4fc2-e9f0-2ab07bf6573a"
      },
      "execution_count": 9,
      "outputs": [
        {
          "output_type": "stream",
          "name": "stdout",
          "text": [
            "Ingresa la longitud del primer lado: 6\n",
            "Ingresa la longitud del segundo lado: 4\n",
            "La longitud de la hipotenusa es 7.211102550927978.\n"
          ]
        }
      ]
    },
    {
      "cell_type": "code",
      "source": [],
      "metadata": {
        "id": "2PFhU1XAb9tq"
      },
      "execution_count": null,
      "outputs": []
    }
  ]
}