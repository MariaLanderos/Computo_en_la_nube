{
  "nbformat": 4,
  "nbformat_minor": 0,
  "metadata": {
    "colab": {
      "provenance": [],
      "authorship_tag": "ABX9TyNfnJg9AUBWs4/E762Pyubl",
      "include_colab_link": true
    },
    "kernelspec": {
      "name": "python3",
      "display_name": "Python 3"
    },
    "language_info": {
      "name": "python"
    }
  },
  "cells": [
    {
      "cell_type": "markdown",
      "metadata": {
        "id": "view-in-github",
        "colab_type": "text"
      },
      "source": [
        "<a href=\"https://colab.research.google.com/github/MariaLanderos/Computo_en_la_nube/blob/main/Importacion_datos_python.ipynb\" target=\"_parent\"><img src=\"https://colab.research.google.com/assets/colab-badge.svg\" alt=\"Open In Colab\"/></a>"
      ]
    },
    {
      "cell_type": "markdown",
      "source": [
        "#Opening files\n"
      ],
      "metadata": {
        "id": "y4keScxeOppk"
      }
    },
    {
      "cell_type": "code",
      "execution_count": null,
      "metadata": {
        "id": "mSP-adjNKVgE",
        "colab": {
          "base_uri": "https://localhost:8080/"
        },
        "outputId": "57e95f36-fd77-426e-85a8-b3bb45c036f8"
      },
      "outputs": [
        {
          "output_type": "stream",
          "name": "stdout",
          "text": [
            "“The only way to ease our fear and be truly happy is to acknowledge our fear and look deeply at its source. Instead of trying to escape from our fear, we can invite it up to our awareness and look at it clearly and deeply.”\n"
          ]
        }
      ],
      "source": [
        "# files/open_try.py\n",
        "fh = open('fear.txt', 'rt') # r: read, t: text    Se abre el archivo 'fear.txt' en modo lectura de texto ('rt').\n",
        "for line in fh.readlines():   # Se itera a través de cada línea del archivo utilizando un bucle for\n",
        "    print(line.strip())     # Se elimina el espacio en blanco al principio y al final de cada línea y se imprime.\n",
        "fh.close()   #se cierra el archivo después de leerlo"
      ]
    },
    {
      "cell_type": "code",
      "source": [
        "#whatever error might occur when we try to open and read the file, we can rest assured that close() will be called:\n",
        "fh = open('fear.txt', 'rt')  #rt is the default mode for opening files, so we don't need to specify it.\n",
        "try:   # Se utiliza un bloque \"try...finally\" para manejar cualquier error que pueda ocurrir durante la lectura del archivo.\n",
        "    for line in fh.readlines():  # Se itera a través de cada línea del archivo utilizando un bucle for.\n",
        "        print(line.strip())  # Se elimina el espacio en blanco al principio y al final de cada línea y se imprime.\n",
        "finally:\n",
        "    fh.close()  #se cierra archivo"
      ],
      "metadata": {
        "colab": {
          "base_uri": "https://localhost:8080/"
        },
        "id": "Qz9uodpNAICf",
        "outputId": "215b5c08-f92e-417c-c459-6d830817d961"
      },
      "execution_count": null,
      "outputs": [
        {
          "output_type": "stream",
          "name": "stdout",
          "text": [
            "“The only way to ease our fear and be truly happy is to acknowledge our fear and look deeply at its source. Instead of trying to escape from our fear, we can invite it up to our awareness and look at it clearly and deeply.”\n"
          ]
        }
      ]
    },
    {
      "cell_type": "code",
      "source": [
        "#We can simplify the previous example further, this way:\n",
        "fh = open('fear.txt') # rt is default\n",
        "try:\n",
        "    for line in fh: # podemos iterar directamente en fh\n",
        "        print(line.strip())\n",
        "finally:\n",
        "    fh.close()"
      ],
      "metadata": {
        "colab": {
          "base_uri": "https://localhost:8080/"
        },
        "id": "H-NF0fZzAcT6",
        "outputId": "e1de5f7b-cb6f-41d5-9d08-6f8415d21fef"
      },
      "execution_count": null,
      "outputs": [
        {
          "output_type": "stream",
          "name": "stdout",
          "text": [
            "“The only way to ease our fear and be truly happy is to acknowledge our fear and look deeply at its source. Instead of trying to escape from our fear, we can invite it up to our awareness and look at it clearly and deeply.”\n"
          ]
        }
      ]
    },
    {
      "cell_type": "markdown",
      "source": [
        "# Usando un gestor de contexto para abrir un archivo"
      ],
      "metadata": {
        "id": "Sf3Vsz2wYQd7"
      }
    },
    {
      "cell_type": "code",
      "source": [
        "with open('fear.txt') as fh:  ## El gestor de contexto se encarga automáticamente de cerrar el archivo cuando ya no es necesario.\n",
        "    for line in fh:\n",
        "        print(line.strip())   #Se elimina el espacio en blanco al principio y al final de cada línea y se imprime."
      ],
      "metadata": {
        "colab": {
          "base_uri": "https://localhost:8080/"
        },
        "id": "PeRPeWE-SHdC",
        "outputId": "c6461040-36b2-4036-b01c-9abb708fabde"
      },
      "execution_count": null,
      "outputs": [
        {
          "output_type": "stream",
          "name": "stdout",
          "text": [
            "“The only way to ease our fear and be truly happy is to acknowledge our fear and look deeply at its source. Instead of trying to escape from our fear, we can invite it up to our awareness and look at it clearly and deeply.”\n"
          ]
        }
      ]
    },
    {
      "cell_type": "markdown",
      "source": [
        "#Leer y escribir en un archivo"
      ],
      "metadata": {
        "id": "opD9Uk0VFxPV"
      }
    },
    {
      "cell_type": "code",
      "source": [
        "with open('print_example.txt', 'w') as fw:   #w=write\n",
        "    print('Hey I am printing into a file!!!', file=fw) #Crea el archivo, print_example.txt si es que no existe, en caso de que exista inserta el mensaje"
      ],
      "metadata": {
        "id": "7dJu163pFwNu"
      },
      "execution_count": null,
      "outputs": []
    },
    {
      "cell_type": "code",
      "source": [
        "with open('print_example.txt') as f: #Abre el archivo\n",
        "    lines = [line.rstrip() for line in f] #Lee linea por linea y almacena el texto en el array\n",
        "with open('print_example.txt_copy.txt', 'w') as fw: #Crea o abre el archivo copia\n",
        "    fw.write('\\n'.join(lines)) #Inserta el texto que esta en el array en el archivo copia"
      ],
      "metadata": {
        "id": "_Ju0ehUWG-gi"
      },
      "execution_count": null,
      "outputs": []
    },
    {
      "cell_type": "markdown",
      "source": [
        "#Checking for file and directory existence\n"
      ],
      "metadata": {
        "id": "crGoBPAjbX4_"
      }
    },
    {
      "cell_type": "code",
      "source": [
        "# Importamos la clase Path de la biblioteca pathlib.\n",
        "from pathlib import Path\n",
        "\n",
        "# Creamos un objeto Path llamado 'p' que representa el archivo 'fear.txt'.\n",
        "p = Path('fear.txt')\n",
        "\n",
        "# Obtenemos la ruta absoluta del directorio que contiene 'fear.txt'.\n",
        "path = p.parent.absolute()\n",
        "\n",
        "# Verificamos si 'p' es un archivo (True).\n",
        "print(p.is_file())  # True\n",
        "\n",
        "# Imprimimos la ruta absoluta del directorio.\n",
        "print(path)  # /Users/fab/srv/lpp3e/ch08/files\n",
        "\n",
        "# Verificamos si la ruta 'path' es un directorio (True).\n",
        "print(path.is_dir())  # True\n",
        "\n",
        "# Creamos un objeto Path llamado 'q' que representa una ruta con un nombre de archivo que contiene espacios.\n",
        "q = Path('COMPUTO EN LA NUBE\\\\fear.txt')\n",
        "\n",
        "# Verificamos si 'q' es un directorio (True).\n",
        "print(q.is_dir())  # True\n",
        "\n",
        "# Creamos un objeto Path llamado 'q' que representa una ruta con un nombre de archivo que contiene espacios.\n",
        "# Nota: En este caso, la ruta contiene barras invertidas (\\) como caracteres de escape, por lo que es importante usar 'r' antes de la cadena.\n",
        "q = Path(r\"C:\\IPN\\COMPUTO EN LA NUBE\\fear.txt\")\n",
        "# Verificamos si 'q' es un directorio (True).\n",
        "print(q.is_dir())  # True\n"
      ],
      "metadata": {
        "id": "JY9YFwcoZ_ln"
      },
      "execution_count": null,
      "outputs": []
    },
    {
      "cell_type": "markdown",
      "source": [
        "#Temporary files and directories\n",
        "Este código utiliza las bibliotecas tempfile y NamedTemporaryFile de Python para trabajar con archivos temporales y directorios temporales. A continuación, se proporciona un comentario para explicar cada parte del código:"
      ],
      "metadata": {
        "id": "0oGRBwItUI1e"
      }
    },
    {
      "cell_type": "code",
      "source": [
        "from tempfile import NamedTemporaryFile, TemporaryDirectory\n",
        "with TemporaryDirectory(dir='.') as td:\n",
        "    print('Temp directory:', td)  # Imprimimos la ruta al directorio temporal creado.\n",
        "    with NamedTemporaryFile(dir=td) as t: ## Usamos TemporaryDirectory para crear un directorio temporal en el directorio actual (dir='.').\n",
        "# El directorio se elimina automáticamente cuando se sale del contexto del bloque \"with\".\n",
        "        name = t.name   # Obtenemos el nombre del archivo temporal.\n",
        "        print(name)    # Imprimimos el nombre del archivo temporal."
      ],
      "metadata": {
        "id": "0ErjuTEtcq7p",
        "colab": {
          "base_uri": "https://localhost:8080/"
        },
        "outputId": "1d165881-f2ea-4e61-a92b-7bfef1c20210"
      },
      "execution_count": null,
      "outputs": [
        {
          "output_type": "stream",
          "name": "stdout",
          "text": [
            "Temp directory: ./tmpcy4pwmhs\n",
            "/content/tmpcy4pwmhs/tmpqng0lgrc\n"
          ]
        }
      ]
    },
    {
      "cell_type": "markdown",
      "source": [
        "#Directory content"
      ],
      "metadata": {
        "id": "N_1ttkVZUhsW"
      }
    },
    {
      "cell_type": "code",
      "source": [
        "from pathlib import Path\n",
        "p = Path('.')  # Creamos un objeto Path llamado 'p' que representa el directorio actual\n",
        "for entry in p.glob('*'):  # Iteramos a través de todas las entradas (archivos y carpetas) en el directorio actual.\n",
        "    print('File:' if entry.is_file() else 'Folder:', entry)  # Comprobamos si la entrada es un archivo o una carpeta y luego imprimimos el tipo y el nombre de la entrada."
      ],
      "metadata": {
        "colab": {
          "base_uri": "https://localhost:8080/"
        },
        "id": "UFe2cOmmUYTa",
        "outputId": "bc53342c-2aa1-4def-9a88-fce6fc291330"
      },
      "execution_count": null,
      "outputs": [
        {
          "output_type": "stream",
          "name": "stdout",
          "text": [
            "Folder: .config\n",
            "File: print_example.txt_copy.txt\n",
            "File: print_example.txt\n",
            "File: fear.txt\n",
            "Folder: sample_data\n"
          ]
        }
      ]
    },
    {
      "cell_type": "markdown",
      "source": [
        "Una forma alternativa de explorar un árbol de directorios nos la proporciona os.walk.\n"
      ],
      "metadata": {
        "id": "ORYJoCTyUvQA"
      }
    },
    {
      "cell_type": "code",
      "source": [
        "import os\n",
        "\n",
        "# Iteramos a través de las rutas de directorio ('root'), las listas de directorios ('dirs') y las listas de archivos ('files')\n",
        "# en el árbol de directorios comenzando desde el directorio actual ('.').\n",
        "for root, dirs, files in os.walk('.'):\n",
        "    abs_root = os.path.abspath(root)  # Obtenemos la ruta absoluta del directorio actual.\n",
        "    print(abs_root)  # Imprimimos la ruta absoluta del directorio actual.\n",
        "\n",
        "# Si hay subdirectorios en el directorio actual, los imprimimos.\n",
        "    if dirs:\n",
        "        print('Directories:')\n",
        "        for dir_ in dirs:\n",
        "            print(dir_)\n",
        "        print()\n",
        "\n",
        "\n",
        "# Si hay archivos en el directorio actual, los imprimimos.\n",
        "    if files:\n",
        "        print('Files:')\n",
        "        for filename in files:\n",
        "            print(filename)\n",
        "        print()"
      ],
      "metadata": {
        "colab": {
          "base_uri": "https://localhost:8080/"
        },
        "id": "hFYZI_4YUpaJ",
        "outputId": "7ecec539-1883-404e-92e3-dfa146cfc650"
      },
      "execution_count": null,
      "outputs": [
        {
          "output_type": "stream",
          "name": "stdout",
          "text": [
            "/content\n",
            "Directories:\n",
            ".config\n",
            "sample_data\n",
            "\n",
            "Files:\n",
            "print_example.txt_copy.txt\n",
            "print_example.txt\n",
            "fear.txt\n",
            "\n",
            "/content/.config\n",
            "Directories:\n",
            "configurations\n",
            "logs\n",
            "\n",
            "Files:\n",
            "gce\n",
            "default_configs.db\n",
            "active_config\n",
            ".last_survey_prompt.yaml\n",
            "config_sentinel\n",
            ".last_update_check.json\n",
            ".last_opt_in_prompt.yaml\n",
            "\n",
            "/content/.config/configurations\n",
            "Files:\n",
            "config_default\n",
            "\n",
            "/content/.config/logs\n",
            "Directories:\n",
            "2023.09.14\n",
            "\n",
            "/content/.config/logs/2023.09.14\n",
            "Files:\n",
            "13.22.33.668588.log\n",
            "13.23.06.916289.log\n",
            "13.22.40.967663.log\n",
            "13.23.06.154072.log\n",
            "13.22.09.213761.log\n",
            "13.21.42.998569.log\n",
            "\n",
            "/content/sample_data\n",
            "Files:\n",
            "anscombe.json\n",
            "README.md\n",
            "mnist_test.csv\n",
            "california_housing_test.csv\n",
            "mnist_train_small.csv\n",
            "california_housing_train.csv\n",
            "\n"
          ]
        }
      ]
    },
    {
      "cell_type": "markdown",
      "source": [
        "#Utilizar un flujo en memoria\n",
        "Los objetos en memoria pueden ser útiles en una multitud de situaciones. La memoria es mucho más rápida que un disco, siempre está disponible y para pequeñas cantidades de datos puede ser la elección perfecta"
      ],
      "metadata": {
        "id": "58W3LaAmXi-Z"
      }
    },
    {
      "cell_type": "code",
      "source": [
        "import io\n",
        "stream = io.StringIO()  # Creamos un flujo de texto en memoria utilizando io.StringIO().\n",
        "stream.write('Learning Python Programming.\\n')   # Escribimos una cadena en el flujo en memoria.\n",
        "print('Become a Python ninja!', file=stream)   # Agregamos otra línea al flujo en memoria utilizando la función \"print\".\n",
        "contents = stream.getvalue()  # Obtenemos el contenido completo del flujo en memoria.\n",
        "print(contents)  # Imprimimos el contenido del flujo en memoria."
      ],
      "metadata": {
        "colab": {
          "base_uri": "https://localhost:8080/"
        },
        "id": "08MP9rX3VSt-",
        "outputId": "2f2973be-97df-4258-aeaa-6b596efcaa68"
      },
      "execution_count": null,
      "outputs": [
        {
          "output_type": "stream",
          "name": "stdout",
          "text": [
            "Learning Python Programming.\n",
            "Become a Python ninja!\n",
            "\n"
          ]
        }
      ]
    }
  ]
}